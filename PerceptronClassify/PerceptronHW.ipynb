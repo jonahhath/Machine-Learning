{
 "cells": [
  {
   "cell_type": "code",
   "execution_count": 49,
   "id": "d25635f7-905c-4d94-9b9c-9048dd5a1501",
   "metadata": {},
   "outputs": [],
   "source": [
    "import numpy as np\n",
    "import matplotlib.pyplot as plt\n",
    "from sklearn.metrics import precision_score, recall_score, f1_score, confusion_matrix"
   ]
  },
  {
   "cell_type": "code",
   "execution_count": 50,
   "id": "af0d25a1-9e42-4514-bf63-961106b2e6c9",
   "metadata": {},
   "outputs": [],
   "source": [
    "def activation_function(z):\n",
    "    return np.where(z >= 0, 1, 0)"
   ]
  },
  {
   "cell_type": "code",
   "execution_count": 51,
   "id": "ca623311-f5d5-4e6b-a5ea-b9bf9f98b910",
   "metadata": {},
   "outputs": [],
   "source": [
    "def fit(X_train, y_train, learning_rate=0.1, num_iterations=5000):\n",
    "    n_samples, n_features = X_train.shape\n",
    "    weights = np.zeros(n_features)\n",
    "    bias = 0\n",
    "    accuracy_history = []  \n",
    "    \n",
    "    for _ in range(num_iterations):  \n",
    "        correct_predictions = 0  \n",
    "        \n",
    "        for idx, x_i in enumerate(X_train):\n",
    "            linear_output = np.dot(x_i, weights) + bias\n",
    "            y_pred = activation_function(linear_output)\n",
    "\n",
    "            if y_pred == y_train[idx]:\n",
    "                correct_predictions += 1  \n",
    "\n",
    "            update = learning_rate * (y_train[idx] - y_pred)\n",
    "            weights += update * x_i\n",
    "            bias += update  \n",
    "\n",
    "        accuracy = correct_predictions / len(y_train)\n",
    "        accuracy_history.append(accuracy)\n",
    "\n",
    "    print(\"Accuracy Results:\", accuracy_history[-1])\n",
    "    return weights, bias, accuracy_history\n"
   ]
  },
  {
   "cell_type": "code",
   "execution_count": 52,
   "id": "d0c09b2b-7393-4148-8dd6-4e1121a9ea02",
   "metadata": {},
   "outputs": [],
   "source": [
    "def accuracy(y_true, y_pred):\n",
    "    return np.mean(y_true == y_pred) "
   ]
  },
  {
   "cell_type": "code",
   "execution_count": 53,
   "id": "466608ff-3694-47b6-be2d-f33f5a636480",
   "metadata": {},
   "outputs": [],
   "source": [
    "def train_test_split(X, y, test_size=0.2):\n",
    "    split_idx = int(len(X) * (1 - test_size))\n",
    "    return X[:split_idx], X[split_idx:], y[:split_idx], y[split_idx:]"
   ]
  },
  {
   "cell_type": "code",
   "execution_count": 48,
   "id": "27bf8f26-ab20-41c8-bce8-8964c5ff3152",
   "metadata": {},
   "outputs": [
    {
     "name": "stdout",
     "output_type": "stream",
     "text": [
      "Dataset Shape: (40, 16)\n",
      "Labels Shape: (40,)\n"
     ]
    }
   ],
   "source": [
    "L_variations = [\n",
    "    [1, 0, 0, 0,  1, 0, 0, 0,  1, 0, 0, 0,  1, 1, 1, 1],  \n",
    "    [1, 0, 0, 0,  1, 0, 0, 0,  1, 0, 0, 0,  1, 1, 1, 0],  \n",
    "    [0, 1, 0, 0,  0, 1, 0, 0,  0, 1, 0, 0,  0, 1, 1, 1],  \n",
    "    [0, 0, 0, 1,  0, 0, 0, 1,  0, 0, 0, 1,  1, 1, 1, 1],  \n",
    "    [0, 0, 0, 1,  0, 0, 0, 1,  0, 0, 0, 1,  0, 1, 1, 1], \n",
    "    \n",
    "    [0, 0, 1, 0,  0, 0, 1, 0,  0, 0, 1, 0,  1, 1, 1, 0],  \n",
    "    [0, 0, 0, 1,  0, 0, 0, 1,  0, 0, 0, 1,  0, 0, 1, 1],  \n",
    "    [1, 0, 0, 0,  1, 0, 0, 0,  1, 0, 0, 0,  1, 1, 0, 0],  \n",
    "    [0, 1, 0, 0,  0, 1, 0, 0,  0, 1, 0, 0,  0, 1, 1, 0],  \n",
    "    [0, 0, 1, 0,  0, 0, 1, 0,  0, 0, 1, 0,  0, 1, 1, 0],  \n",
    "    \n",
    "    [1, 0, 0, 0,  1, 0, 0, 0,  1, 0, 0, 0,  1, 0, 1, 1],  \n",
    "    [0, 0, 0, 1,  0, 0, 0, 1,  0, 0, 0, 1,  1, 1, 1, 1],  \n",
    "    [0, 1, 0, 0,  0, 1, 0, 0,  0, 1, 1, 1,  0, 0, 0, 0],  \n",
    "    [0, 1, 0, 0,  0, 1, 0, 0,  0, 1, 1, 0,  0, 0, 0, 0],  \n",
    "    [0, 0, 1, 0,  0, 0, 1, 0,  1, 1, 1, 0,  0, 0, 0, 0],\n",
    "    \n",
    "    [0, 0, 1, 0,  0, 0, 1, 0,  0, 1, 1, 0,  0, 0, 0, 0],  \n",
    "    [1, 0, 0, 0,  1, 0, 0, 0,  1, 1, 1, 1,  0, 0, 0, 0],  \n",
    "    [1, 0, 0, 0,  1, 0, 0, 0,  1, 1, 1, 0,  0, 0, 0, 0],  \n",
    "    [0, 0, 0, 1,  0, 0, 0, 1,  1, 1, 1, 1,  0, 0, 0, 0],  \n",
    "    [0, 0, 0, 1,  0, 0, 0, 1,  0, 1, 1, 1,  0, 0, 0, 0],  \n",
    "\n",
    "    [0, 0, 0, 0,  1, 0, 0, 0,  1, 0, 0, 0,  1, 0, 1, 1],  \n",
    "    [0, 0, 0, 0,  1, 0, 0, 0,  1, 0, 0, 0,  1, 0, 1, 1],  \n",
    "    [0, 0, 0, 0,  0, 0, 0, 1,  0, 0, 0, 1,  1, 1, 1, 1],  \n",
    "    [0, 0, 0, 0,  0, 0, 0, 1,  0, 0, 0, 1,  0, 1, 1, 1],  \n",
    "    [0, 0, 1, 0,  0, 0, 1, 0,  1, 1, 1, 0,  0, 0, 0, 0]  \n",
    "]\n",
    "T_variations = [\n",
    "    [1, 1, 1, 1,  0, 1, 0, 0,  0, 1, 0, 0,  0, 1, 0, 0],  \n",
    "    [1, 1, 1, 1,  0, 0, 1, 0,  0, 0, 1, 0,  0, 0, 1, 0],  \n",
    "    [1, 1, 1, 0,  0, 1, 0, 0,  0, 1, 0, 0,  0, 1, 0, 0],  \n",
    "    [0, 1, 1, 1,  0, 0, 1, 0,  0, 0, 1, 0,  0, 0, 1, 0],  \n",
    "    [1, 0, 1, 1,  0, 0, 1, 0,  0, 0, 1, 0,  0, 0, 1, 0],  \n",
    "    \n",
    "    [1, 1, 1, 0,  0, 1, 0, 0,  0, 0, 0, 0,  0, 1, 0, 0],  \n",
    "    [1, 1, 1, 0,  0, 0, 0, 0,  0, 1, 0, 0,  0, 1, 0, 0],  \n",
    "    [0, 1, 1, 1,  0, 0, 1, 0,  0, 0, 0, 0,  0, 0, 1, 0],  \n",
    "    [1, 1, 1, 0,  0, 1, 0, 0,  0, 1, 0, 0,  0, 0, 0, 0],  \n",
    "    [0, 1, 1, 1,  0, 0, 1, 0,  0, 0, 1, 0,  0, 0, 0, 0],  \n",
    "\n",
    "    [1, 1, 1, 1,  0, 1, 0, 0,  0, 1, 0, 0,  0, 1, 0, 0],  \n",
    "    [1, 1, 1, 1,  0, 0, 1, 0,  0, 0, 0, 0,  0, 0, 1, 0],  \n",
    "    [0, 0, 0, 0,  1, 1, 1, 0,  0, 1, 0, 0,  0, 1, 0, 0],  \n",
    "    [1, 1, 1, 0,  0, 1, 0, 0,  0, 1, 0, 0,  0, 1, 0, 0],  \n",
    "    [0, 0, 0, 0,  0, 1, 1, 1,  0, 0, 1, 0,  0, 0, 1, 0],  \n",
    "\n",
    "    [1, 1, 1, 1,  0, 1, 0, 0,  0, 1, 0, 0,  0, 1, 0, 0],  \n",
    "    [0, 0, 0, 0,  1, 1, 1, 1,  0, 0, 1, 0,  0, 0, 1, 0],  \n",
    "    [0, 1, 1, 1,  0, 0, 1, 0,  0, 0, 0, 0,  0, 0, 1, 0],  \n",
    "    [1, 1, 1, 1,  0, 1, 0, 0,  0, 1, 0, 0,  0, 1, 0, 0],  \n",
    "    [1, 1, 1, 1,  0, 0, 1, 0,  0, 0, 1, 0,  0, 0, 0, 0],  \n",
    "\n",
    "    [0, 0, 0, 0,  0, 1, 1, 1,  0, 0, 1, 0,  0, 0, 1, 0],  \n",
    "    [0, 0, 0, 0,  1, 1, 1, 0,  0, 1, 0, 0,  0, 1, 0, 0],  \n",
    "    [1, 1, 1, 0,  0, 1, 0, 0,  0, 1, 0, 0,  0, 1, 0, 0],  \n",
    "    [0, 1, 1, 1,  0, 0, 0, 0,  0, 0, 1, 0,  0, 0, 1, 0],  \n",
    "    [1, 1, 0, 1,  0, 1, 0, 0,  0, 1, 0, 0,  0, 1, 0, 0]  \n",
    "]\n",
    "\n",
    "\n",
    "X_data = np.array(L_variations + T_variations)  \n",
    "y_data = np.array([0] * 25 + [1] * 25)  \n",
    "\n",
    "print(\"Dataset Shape:\", X_train.shape)\n",
    "print(\"Labels Shape:\", y_train.shape)  \n"
   ]
  },
  {
   "cell_type": "code",
   "execution_count": 42,
   "id": "a6bb1f28-5417-4563-98b9-573f668857c2",
   "metadata": {},
   "outputs": [],
   "source": [
    "X_train, X_test, y_train, y_test = train_test_split(X_data, y_data)"
   ]
  },
  {
   "cell_type": "code",
   "execution_count": 43,
   "id": "cc9f373c-2948-430f-8cbb-1a2c9f95b1a4",
   "metadata": {},
   "outputs": [
    {
     "name": "stdout",
     "output_type": "stream",
     "text": [
      "Accuracy Results: 1.0\n"
     ]
    }
   ],
   "source": [
    "\n",
    "weights, bias, accuracy_history = fit(X_train, y_train)\n"
   ]
  },
  {
   "cell_type": "code",
   "execution_count": 44,
   "id": "af304586-cc6f-4c25-a380-f56c30aaae21",
   "metadata": {},
   "outputs": [
    {
     "name": "stdout",
     "output_type": "stream",
     "text": [
      "Trained Weights: [ 0.4  0.2  0.2  0.4  0.1  0.3  0.3  0.2 -0.3 -0.2 -0.3 -0.2 -0.3  0.\n",
      " -0.2 -0.4]\n",
      "Trained Bias: -0.1\n"
     ]
    }
   ],
   "source": [
    "print(\"Trained Weights:\", weights)\n",
    "print(\"Trained Bias:\", bias)\n"
   ]
  },
  {
   "cell_type": "code",
   "execution_count": 65,
   "id": "9d2e8b2d-3b8b-4128-ba52-a8a297484a8a",
   "metadata": {},
   "outputs": [],
   "source": [
    "X_test = np.array([\n",
    "    [1, 1, 1, 1,  0, 0, 1, 0,  0, 0, 1, 0,  0, 0, 1, 0],  \n",
    "    [1, 0, 0, 0,  1, 0, 0, 0,  1, 1, 1, 0,  0, 0, 0, 0],  \n",
    "])\n",
    "\n",
    "y_test = np.array([1, 0]) \n",
    "y_pred = np.array([activation_function(np.dot(x, weights) + bias) for x in X_test])"
   ]
  },
  {
   "cell_type": "code",
   "execution_count": 66,
   "id": "23abea8c-caa1-4eb0-9988-05832868635a",
   "metadata": {},
   "outputs": [
    {
     "name": "stdout",
     "output_type": "stream",
     "text": [
      "Final Test Accuracy: 1.0\n",
      "Precision: 1.0\n",
      "Recall: 1.0\n",
      "F1 Score: 1.0\n",
      "Confusion Matrix:\n",
      " [[1 0]\n",
      " [0 1]]\n"
     ]
    }
   ],
   "source": [
    "print(\"Final Test Accuracy:\", accuracy(y_test, y_pred))\n",
    "print(\"Precision:\", precision_score(y_test, y_pred))\n",
    "print(\"Recall:\", recall_score(y_test, y_pred))\n",
    "print(\"F1 Score:\", f1_score(y_test, y_pred))\n",
    "\n",
    "conf_matrix = confusion_matrix(y_test, y_pred)\n",
    "print(\"Confusion Matrix:\\n\", conf_matrix)"
   ]
  },
  {
   "cell_type": "code",
   "execution_count": null,
   "id": "399cfdde-2962-45d1-b2e4-e6eb9d82fdfd",
   "metadata": {},
   "outputs": [],
   "source": []
  },
  {
   "cell_type": "code",
   "execution_count": null,
   "id": "cda6ec28-a5b8-42da-b51b-7da6bb1cf95b",
   "metadata": {},
   "outputs": [],
   "source": []
  },
  {
   "cell_type": "code",
   "execution_count": null,
   "id": "2c7097e5-79c7-4820-8193-8856a44e368b",
   "metadata": {},
   "outputs": [],
   "source": []
  }
 ],
 "metadata": {
  "kernelspec": {
   "display_name": "Python 3 (ipykernel)",
   "language": "python",
   "name": "python3"
  },
  "language_info": {
   "codemirror_mode": {
    "name": "ipython",
    "version": 3
   },
   "file_extension": ".py",
   "mimetype": "text/x-python",
   "name": "python",
   "nbconvert_exporter": "python",
   "pygments_lexer": "ipython3",
   "version": "3.12.8"
  }
 },
 "nbformat": 4,
 "nbformat_minor": 5
}
